{
 "cells": [
  {
   "cell_type": "code",
   "execution_count": 110,
   "id": "da9892cd",
   "metadata": {},
   "outputs": [],
   "source": [
    "#Importing all the libraries"
   ]
  },
  {
   "cell_type": "code",
   "execution_count": 175,
   "id": "a4831da4",
   "metadata": {},
   "outputs": [],
   "source": [
    "import numpy as np\n",
    "import pandas as pd\n",
    "import matplotlib.pyplot as plt\n",
    "import tensorflow as tf\n",
    "from tensorflow import keras\n",
    "from sklearn.metrics import confusion_matrix,classification_report"
   ]
  },
  {
   "cell_type": "code",
   "execution_count": 115,
   "id": "110e0969",
   "metadata": {},
   "outputs": [],
   "source": [
    "#Loading CIFAR 10 dataset "
   ]
  },
  {
   "cell_type": "code",
   "execution_count": 116,
   "id": "be9159c4",
   "metadata": {},
   "outputs": [],
   "source": [
    "(X_train,y_train),(X_test,y_test) = tf.keras.datasets.cifar10.load_data()"
   ]
  },
  {
   "cell_type": "code",
   "execution_count": 117,
   "id": "2e636f37",
   "metadata": {},
   "outputs": [],
   "source": [
    "#Print shape train and test sets "
   ]
  },
  {
   "cell_type": "code",
   "execution_count": 125,
   "id": "64c77f46",
   "metadata": {},
   "outputs": [
    {
     "name": "stdout",
     "output_type": "stream",
     "text": [
      "Shape of X_train: (50000, 32, 32, 3)\n",
      "Shape of y_train: (50000, 1)\n",
      "Shape of X_test: (10000, 32, 32, 3)\n",
      "Shape of y_test: (10000, 1)\n"
     ]
    }
   ],
   "source": [
    "print('Shape of X_train:',X_train.shape)\n",
    "print('Shape of y_train:',y_train.shape)\n",
    "print('Shape of X_test:' ,X_test.shape)\n",
    "print('Shape of y_test:' ,y_test.shape)"
   ]
  },
  {
   "cell_type": "code",
   "execution_count": 138,
   "id": "333f385e",
   "metadata": {},
   "outputs": [],
   "source": [
    "#Creating classes list"
   ]
  },
  {
   "cell_type": "code",
   "execution_count": 139,
   "id": "42a2b36c",
   "metadata": {},
   "outputs": [],
   "source": [
    "classes = ['airplane','automobile','bird','cat','deer','dog','frog','horse','ship','truck']"
   ]
  },
  {
   "cell_type": "code",
   "execution_count": 143,
   "id": "47114610",
   "metadata": {},
   "outputs": [],
   "source": [
    "#Reshape y_train to one 1d array"
   ]
  },
  {
   "cell_type": "code",
   "execution_count": 144,
   "id": "bc34e36b",
   "metadata": {},
   "outputs": [],
   "source": [
    "y_train = y_train.reshape(-1,)"
   ]
  },
  {
   "cell_type": "code",
   "execution_count": 145,
   "id": "681e96b6",
   "metadata": {},
   "outputs": [],
   "source": [
    "# create a function to plot the image of datasets"
   ]
  },
  {
   "cell_type": "code",
   "execution_count": 158,
   "id": "d0a8836d",
   "metadata": {},
   "outputs": [],
   "source": [
    "def image_plot(x,y,index):\n",
    "    plt.figure(figsize=(15,2))\n",
    "    plt.imshow(x[index])\n",
    "    plt.xlabel(classes[y[index]])\n",
    "    "
   ]
  },
  {
   "cell_type": "code",
   "execution_count": 160,
   "id": "fa127885",
   "metadata": {},
   "outputs": [
    {
     "data": {
      "image/png": "[encoded data removed]",
      "text/plain": [
       "<Figure size 1500x200 with 1 Axes>"
      ]
     },
     "metadata": {},
     "output_type": "display_data"
    }
   ],
   "source": [
    "image_plot(X_train,y_train,1)"
   ]
  },
  {
   "cell_type": "code",
   "execution_count": 162,
   "id": "1d5df636",
   "metadata": {},
   "outputs": [],
   "source": [
    "#Normalize the dataset by divivding it 255"
   ]
  },
  {
   "cell_type": "code",
   "execution_count": 163,
   "id": "4db84b8f",
   "metadata": {},
   "outputs": [],
   "source": [
    "X_train = X_train/255\n",
    "X_test = X_test/255"
   ]
  },
  {
   "cell_type": "code",
   "execution_count": 164,
   "id": "e6aced63",
   "metadata": {},
   "outputs": [],
   "source": [
    "# creating ANN model "
   ]
  },
  {
   "cell_type": "code",
   "execution_count": 169,
   "id": "8cdfc8c8",
   "metadata": {},
   "outputs": [],
   "source": [
    "ann  = keras.Sequential([\n",
    "       keras.layers.Flatten(input_shape=(32,32,3)),\n",
    "       keras.layers.Dense(300,activation='relu'),\n",
    "       keras.layers.Dense(100,activation='relu'),\n",
    "       keras.layers.Dense(10,activation='sigmoid')\n",
    "])"
   ]
  },
  {
   "cell_type": "code",
   "execution_count": 170,
   "id": "7c62d1fb",
   "metadata": {},
   "outputs": [],
   "source": [
    "ann.compile(optimizer='adam',\n",
    "            loss='sparse_categorical_crossentropy',\n",
    "            metrics=['accuracy']    )"
   ]
  },
  {
   "cell_type": "code",
   "execution_count": 171,
   "id": "b222889d",
   "metadata": {
    "scrolled": true
   },
   "outputs": [
    {
     "name": "stdout",
     "output_type": "stream",
     "text": [
      "Epoch 1/10\n",
      "1563/1563 [==============================] - 17s 10ms/step - loss: 1.8653 - accuracy: 0.3276\n",
      "Epoch 2/10\n",
      "1563/1563 [==============================] - 16s 10ms/step - loss: 1.6830 - accuracy: 0.3995\n",
      "Epoch 3/10\n",
      "1563/1563 [==============================] - 15s 10ms/step - loss: 1.6030 - accuracy: 0.4279\n",
      "Epoch 4/10\n",
      "1563/1563 [==============================] - 16s 10ms/step - loss: 1.5528 - accuracy: 0.4429\n",
      "Epoch 5/10\n",
      "1563/1563 [==============================] - 15s 9ms/step - loss: 1.5144 - accuracy: 0.4597\n",
      "Epoch 6/10\n",
      "1563/1563 [==============================] - 15s 10ms/step - loss: 1.4881 - accuracy: 0.4706\n",
      "Epoch 7/10\n",
      "1563/1563 [==============================] - 15s 9ms/step - loss: 1.4615 - accuracy: 0.4813\n",
      "Epoch 8/10\n",
      "1563/1563 [==============================] - 15s 9ms/step - loss: 1.4428 - accuracy: 0.4843\n",
      "Epoch 9/10\n",
      "1563/1563 [==============================] - 15s 9ms/step - loss: 1.4273 - accuracy: 0.4918\n",
      "Epoch 10/10\n",
      "1563/1563 [==============================] - 15s 9ms/step - loss: 1.4077 - accuracy: 0.4958\n"
     ]
    },
    {
     "data": {
      "text/plain": [
       "<keras.callbacks.History at 0x15611b7e880>"
      ]
     },
     "execution_count": 171,
     "metadata": {},
     "output_type": "execute_result"
    }
   ],
   "source": [
    "ann.fit(X_train,y_train,epochs=10)"
   ]
  },
  {
   "cell_type": "code",
   "execution_count": 174,
   "id": "a262fb07",
   "metadata": {},
   "outputs": [
    {
     "name": "stdout",
     "output_type": "stream",
     "text": [
      "313/313 [==============================] - 1s 1ms/step - loss: 1.5196 - accuracy: 0.4667\n"
     ]
    },
    {
     "data": {
      "text/plain": [
       "[1.519553303718567, 0.4666999876499176]"
      ]
     },
     "execution_count": 174,
     "metadata": {},
     "output_type": "execute_result"
    }
   ],
   "source": [
    "ann.evaluate(X_test,y_test)"
   ]
  },
  {
   "cell_type": "code",
   "execution_count": 176,
   "id": "011bb708",
   "metadata": {},
   "outputs": [
    {
     "name": "stdout",
     "output_type": "stream",
     "text": [
      "313/313 [==============================] - 0s 968us/step\n"
     ]
    }
   ],
   "source": [
    "y_pred = ann.predict(X_test)"
   ]
  },
  {
   "cell_type": "code",
   "execution_count": 180,
   "id": "3911cb31",
   "metadata": {},
   "outputs": [],
   "source": [
    "y_pred_classes = [np.argmax(elements) for elements in y_pred]"
   ]
  },
  {
   "cell_type": "code",
   "execution_count": 184,
   "id": "a583b41b",
   "metadata": {},
   "outputs": [
    {
     "name": "stdout",
     "output_type": "stream",
     "text": [
      "classification report: \n",
      "               precision    recall  f1-score   support\n",
      "\n",
      "           0       0.52      0.55      0.54      1000\n",
      "           1       0.44      0.72      0.55      1000\n",
      "           2       0.40      0.22      0.28      1000\n",
      "           3       0.37      0.24      0.29      1000\n",
      "           4       0.42      0.46      0.44      1000\n",
      "           5       0.47      0.24      0.32      1000\n",
      "           6       0.49      0.56      0.52      1000\n",
      "           7       0.55      0.44      0.49      1000\n",
      "           8       0.49      0.72      0.58      1000\n",
      "           9       0.46      0.52      0.49      1000\n",
      "\n",
      "    accuracy                           0.47     10000\n",
      "   macro avg       0.46      0.47      0.45     10000\n",
      "weighted avg       0.46      0.47      0.45     10000\n",
      "\n"
     ]
    }
   ],
   "source": [
    "print('classification report: \\n', classification_report(y_test,y_pred_classes))"
   ]
  },
  {
   "cell_type": "code",
   "execution_count": 173,
   "id": "dfb508c3",
   "metadata": {},
   "outputs": [],
   "source": [
    "# Building CNN Model"
   ]
  },
  {
   "cell_type": "code",
   "execution_count": 196,
   "id": "1ebde7d9",
   "metadata": {},
   "outputs": [],
   "source": [
    "CNN  = keras.Sequential([\n",
    "       keras.layers.Conv2D(filters=64,kernel_size=(3,3),activation='relu',input_shape=(32,32,3)),\n",
    "       keras.layers.MaxPool2D(pool_size=(2,2)),\n",
    "       keras.layers.Conv2D(128,kernel_size=(3,3),activation='relu'),\n",
    "       keras.layers.MaxPool2D(pool_size=(2,2)),\n",
    "    \n",
    "      #ANN\n",
    "       keras.layers.Flatten(input_shape=(32,32,3)),\n",
    "       keras.layers.Dense(300,activation='relu'),\n",
    "       keras.layers.Dense(100,activation='relu'),\n",
    "       keras.layers.Dense(10,activation='softmax')\n",
    "])"
   ]
  },
  {
   "cell_type": "code",
   "execution_count": 197,
   "id": "85eeec2c",
   "metadata": {},
   "outputs": [],
   "source": [
    "cnn.compile(optimizer='adam',\n",
    "            loss='sparse_categorical_crossentropy',\n",
    "            metrics=['accuracy']    )"
   ]
  },
  {
   "cell_type": "code",
   "execution_count": 199,
   "id": "f5138cd6",
   "metadata": {},
   "outputs": [
    {
     "name": "stdout",
     "output_type": "stream",
     "text": [
      "Epoch 1/10\n",
      "1563/1563 [==============================] - 23s 14ms/step - loss: 0.6041 - accuracy: 0.7887\n",
      "Epoch 2/10\n",
      "1563/1563 [==============================] - 21s 13ms/step - loss: 0.5743 - accuracy: 0.7991\n",
      "Epoch 3/10\n",
      "1563/1563 [==============================] - 21s 14ms/step - loss: 0.5521 - accuracy: 0.8076\n",
      "Epoch 4/10\n",
      "1563/1563 [==============================] - 21s 14ms/step - loss: 0.5277 - accuracy: 0.8140\n",
      "Epoch 5/10\n",
      "1563/1563 [==============================] - 21s 14ms/step - loss: 0.5041 - accuracy: 0.8223\n",
      "Epoch 6/10\n",
      "1563/1563 [==============================] - 24s 15ms/step - loss: 0.4789 - accuracy: 0.8318\n",
      "Epoch 7/10\n",
      "1563/1563 [==============================] - 22s 14ms/step - loss: 0.4595 - accuracy: 0.8372\n",
      "Epoch 8/10\n",
      "1563/1563 [==============================] - 25s 16ms/step - loss: 0.4444 - accuracy: 0.8414\n",
      "Epoch 9/10\n",
      "1563/1563 [==============================] - 23s 15ms/step - loss: 0.4169 - accuracy: 0.8528\n",
      "Epoch 10/10\n",
      "1563/1563 [==============================] - 20s 13ms/step - loss: 0.3990 - accuracy: 0.8581\n"
     ]
    },
    {
     "data": {
      "text/plain": [
       "<keras.callbacks.History at 0x15616a580d0>"
      ]
     },
     "execution_count": 199,
     "metadata": {},
     "output_type": "execute_result"
    }
   ],
   "source": [
    "cnn.fit(X_train,y_train,epochs=10)"
   ]
  },
  {
   "cell_type": "code",
   "execution_count": 200,
   "id": "389b0ec9",
   "metadata": {},
   "outputs": [
    {
     "name": "stdout",
     "output_type": "stream",
     "text": [
      "313/313 [==============================] - 1s 4ms/step - loss: 1.1727 - accuracy: 0.6825\n"
     ]
    },
    {
     "data": {
      "text/plain": [
       "[1.1727100610733032, 0.6825000047683716]"
      ]
     },
     "execution_count": 200,
     "metadata": {},
     "output_type": "execute_result"
    }
   ],
   "source": [
    "cnn.evaluate(X_test,y_test)"
   ]
  },
  {
   "cell_type": "code",
   "execution_count": 201,
   "id": "ef8e5e1d",
   "metadata": {},
   "outputs": [
    {
     "name": "stdout",
     "output_type": "stream",
     "text": [
      "313/313 [==============================] - 1s 4ms/step\n"
     ]
    }
   ],
   "source": [
    "y_pred = cnn.predict(X_test)"
   ]
  },
  {
   "cell_type": "code",
   "execution_count": 208,
   "id": "9bbf659e",
   "metadata": {},
   "outputs": [
    {
     "data": {
      "text/plain": [
       "array([[3.00767697e-05, 2.53335311e-05, 4.10349385e-05, 9.72436666e-01,\n",
       "        7.95086453e-05, 2.61480156e-02, 5.88975905e-04, 1.63520028e-07,\n",
       "        6.00768311e-04, 4.95718014e-05],\n",
       "       [1.75338664e-05, 2.29688510e-02, 2.03305532e-08, 1.06657438e-07,\n",
       "        6.59963620e-12, 5.12003506e-09, 1.03060775e-10, 1.70294862e-10,\n",
       "        9.69782948e-01, 7.23052397e-03],\n",
       "       [2.13645468e-03, 1.09438330e-01, 3.44813860e-04, 1.39531307e-02,\n",
       "        3.13532003e-03, 2.14948528e-03, 1.73724012e-03, 1.79604085e-05,\n",
       "        1.62763134e-01, 7.04324126e-01],\n",
       "       [8.71522427e-01, 3.06536350e-03, 2.37540007e-02, 4.94043285e-04,\n",
       "        1.10643719e-04, 1.23680902e-05, 6.22192922e-04, 1.04940789e-07,\n",
       "        1.00411393e-01, 7.47495324e-06],\n",
       "       [1.10923878e-07, 5.31160413e-06, 3.13256332e-03, 3.48005514e-03,\n",
       "        5.35107195e-01, 1.16829888e-03, 4.57095116e-01, 6.33044147e-06,\n",
       "        4.87720126e-06, 1.32345903e-07]], dtype=float32)"
      ]
     },
     "execution_count": 208,
     "metadata": {},
     "output_type": "execute_result"
    }
   ],
   "source": [
    "y_pred[:5]"
   ]
  },
  {
   "cell_type": "code",
   "execution_count": 203,
   "id": "08af4bff",
   "metadata": {},
   "outputs": [],
   "source": [
    "y_classes = [np.argmax(elements) for elements in y_pred]"
   ]
  },
  {
   "cell_type": "code",
   "execution_count": 204,
   "id": "5dcad0e1",
   "metadata": {},
   "outputs": [
    {
     "data": {
      "text/plain": [
       "3"
      ]
     },
     "execution_count": 204,
     "metadata": {},
     "output_type": "execute_result"
    }
   ],
   "source": [
    "y_classes[0]"
   ]
  },
  {
   "cell_type": "code",
   "execution_count": 206,
   "id": "963e0e4d",
   "metadata": {},
   "outputs": [],
   "source": [
    "y_test = y_test.reshape(-1,)"
   ]
  },
  {
   "cell_type": "code",
   "execution_count": 207,
   "id": "227fa38a",
   "metadata": {},
   "outputs": [
    {
     "data": {
      "image/png": "[encoded data removed]",
      "text/plain": [
       "<Figure size 1500x200 with 1 Axes>"
      ]
     },
     "metadata": {},
     "output_type": "display_data"
    }
   ],
   "source": [
    "image_plot(X_test,y_test,0)"
   ]
  },
  {
   "cell_type": "code",
   "execution_count": 211,
   "id": "ce838d9f",
   "metadata": {},
   "outputs": [
    {
     "data": {
      "text/plain": [
       "[3, 8, 9, 0, 4, 6, 1, 6, 3, 1]"
      ]
     },
     "execution_count": 211,
     "metadata": {},
     "output_type": "execute_result"
    }
   ],
   "source": [
    "y_classes[:10]"
   ]
  },
  {
   "cell_type": "code",
   "execution_count": 212,
   "id": "bd9ada43",
   "metadata": {},
   "outputs": [
    {
     "data": {
      "text/plain": [
       "array([3, 8, 8, 0, 6, 6, 1, 6, 3, 1], dtype=uint8)"
      ]
     },
     "execution_count": 212,
     "metadata": {},
     "output_type": "execute_result"
    }
   ],
   "source": [
    "y_test[:10]"
   ]
  },
  {
   "cell_type": "code",
   "execution_count": 214,
   "id": "db4e3c0c",
   "metadata": {},
   "outputs": [
    {
     "name": "stdout",
     "output_type": "stream",
     "text": [
      "classification report: \n",
      "               precision    recall  f1-score   support\n",
      "\n",
      "           0       0.73      0.65      0.69      1000\n",
      "           1       0.85      0.75      0.80      1000\n",
      "           2       0.52      0.67      0.58      1000\n",
      "           3       0.52      0.48      0.50      1000\n",
      "           4       0.67      0.59      0.63      1000\n",
      "           5       0.61      0.56      0.58      1000\n",
      "           6       0.72      0.80      0.76      1000\n",
      "           7       0.83      0.67      0.74      1000\n",
      "           8       0.71      0.85      0.78      1000\n",
      "           9       0.74      0.79      0.76      1000\n",
      "\n",
      "    accuracy                           0.68     10000\n",
      "   macro avg       0.69      0.68      0.68     10000\n",
      "weighted avg       0.69      0.68      0.68     10000\n",
      "\n"
     ]
    }
   ],
   "source": [
    "print('classification report: \\n', classification_report(y_test,y_classes))"
   ]
  },
  {
   "cell_type": "code",
   "execution_count": null,
   "id": "e811610c",
   "metadata": {},
   "outputs": [],
   "source": []
  }
 ],
 "metadata": {
  "kernelspec": {
   "display_name": "Python 3 (ipykernel)",
   "language": "python",
   "name": "python3"
  },
  "language_info": {
   "codemirror_mode": {
    "name": "ipython",
    "version": 3
   },
   "file_extension": ".py",
   "mimetype": "text/x-python",
   "name": "python",
   "nbconvert_exporter": "python",
   "pygments_lexer": "ipython3",
   "version": "3.9.13"
  }
 },
 "nbformat": 4,
 "nbformat_minor": 5
}
